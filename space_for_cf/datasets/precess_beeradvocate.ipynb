{
 "cells": [
  {
   "cell_type": "code",
   "execution_count": 9,
   "metadata": {
    "collapsed": true
   },
   "outputs": [
    {
     "data": {
      "text/plain": "         user_id:token  item_id:token  timestamp:float  appearance:float  \\\n0                    0          47986       1234817823               2.5   \n1                    0          48213       1235915097               3.0   \n2                    0          48215       1235916604               3.0   \n3                    0          47969       1234725145               3.5   \n4                    1          64883       1293735206               4.0   \n...                ...            ...              ...               ...   \n1586609           5882          33061       1162684892               3.5   \n1586610            691          33061       1161048566               2.5   \n1586611           7045          33061       1160702513               3.0   \n1586612           3968          33061       1160023044               4.5   \n1586613           2551          33061       1160005319               4.5   \n\n         aroma:float  palate:float  taste:float  overall:float  \n0                2.0           1.5          1.5            1.5  \n1                2.5           3.0          3.0            3.0  \n2                2.5           3.0          3.0            3.0  \n3                3.0           2.5          3.0            3.0  \n4                4.5           4.0          4.5            4.0  \n...              ...           ...          ...            ...  \n1586609          4.0           4.0          4.0            5.0  \n1586610          5.0           2.0          4.0            4.0  \n1586611          3.5           3.5          4.0            4.5  \n1586612          4.5           4.5          4.5            4.0  \n1586613          4.5           4.5          4.5            5.0  \n\n[1586614 rows x 8 columns]",
      "text/html": "<div>\n<style scoped>\n    .dataframe tbody tr th:only-of-type {\n        vertical-align: middle;\n    }\n\n    .dataframe tbody tr th {\n        vertical-align: top;\n    }\n\n    .dataframe thead th {\n        text-align: right;\n    }\n</style>\n<table border=\"1\" class=\"dataframe\">\n  <thead>\n    <tr style=\"text-align: right;\">\n      <th></th>\n      <th>user_id:token</th>\n      <th>item_id:token</th>\n      <th>timestamp:float</th>\n      <th>appearance:float</th>\n      <th>aroma:float</th>\n      <th>palate:float</th>\n      <th>taste:float</th>\n      <th>overall:float</th>\n    </tr>\n  </thead>\n  <tbody>\n    <tr>\n      <th>0</th>\n      <td>0</td>\n      <td>47986</td>\n      <td>1234817823</td>\n      <td>2.5</td>\n      <td>2.0</td>\n      <td>1.5</td>\n      <td>1.5</td>\n      <td>1.5</td>\n    </tr>\n    <tr>\n      <th>1</th>\n      <td>0</td>\n      <td>48213</td>\n      <td>1235915097</td>\n      <td>3.0</td>\n      <td>2.5</td>\n      <td>3.0</td>\n      <td>3.0</td>\n      <td>3.0</td>\n    </tr>\n    <tr>\n      <th>2</th>\n      <td>0</td>\n      <td>48215</td>\n      <td>1235916604</td>\n      <td>3.0</td>\n      <td>2.5</td>\n      <td>3.0</td>\n      <td>3.0</td>\n      <td>3.0</td>\n    </tr>\n    <tr>\n      <th>3</th>\n      <td>0</td>\n      <td>47969</td>\n      <td>1234725145</td>\n      <td>3.5</td>\n      <td>3.0</td>\n      <td>2.5</td>\n      <td>3.0</td>\n      <td>3.0</td>\n    </tr>\n    <tr>\n      <th>4</th>\n      <td>1</td>\n      <td>64883</td>\n      <td>1293735206</td>\n      <td>4.0</td>\n      <td>4.5</td>\n      <td>4.0</td>\n      <td>4.5</td>\n      <td>4.0</td>\n    </tr>\n    <tr>\n      <th>...</th>\n      <td>...</td>\n      <td>...</td>\n      <td>...</td>\n      <td>...</td>\n      <td>...</td>\n      <td>...</td>\n      <td>...</td>\n      <td>...</td>\n    </tr>\n    <tr>\n      <th>1586609</th>\n      <td>5882</td>\n      <td>33061</td>\n      <td>1162684892</td>\n      <td>3.5</td>\n      <td>4.0</td>\n      <td>4.0</td>\n      <td>4.0</td>\n      <td>5.0</td>\n    </tr>\n    <tr>\n      <th>1586610</th>\n      <td>691</td>\n      <td>33061</td>\n      <td>1161048566</td>\n      <td>2.5</td>\n      <td>5.0</td>\n      <td>2.0</td>\n      <td>4.0</td>\n      <td>4.0</td>\n    </tr>\n    <tr>\n      <th>1586611</th>\n      <td>7045</td>\n      <td>33061</td>\n      <td>1160702513</td>\n      <td>3.0</td>\n      <td>3.5</td>\n      <td>3.5</td>\n      <td>4.0</td>\n      <td>4.5</td>\n    </tr>\n    <tr>\n      <th>1586612</th>\n      <td>3968</td>\n      <td>33061</td>\n      <td>1160023044</td>\n      <td>4.5</td>\n      <td>4.5</td>\n      <td>4.5</td>\n      <td>4.5</td>\n      <td>4.0</td>\n    </tr>\n    <tr>\n      <th>1586613</th>\n      <td>2551</td>\n      <td>33061</td>\n      <td>1160005319</td>\n      <td>4.5</td>\n      <td>4.5</td>\n      <td>4.5</td>\n      <td>4.5</td>\n      <td>5.0</td>\n    </tr>\n  </tbody>\n</table>\n<p>1586614 rows × 8 columns</p>\n</div>"
     },
     "execution_count": 9,
     "metadata": {},
     "output_type": "execute_result"
    }
   ],
   "source": [
    "import numpy as np\n",
    "import pandas as pd\n",
    "dataset = pd.read_csv('beeradvocate/BeerAdvocate.inter',delimiter='\\t')\n",
    "dataset"
   ]
  },
  {
   "cell_type": "code",
   "execution_count": 14,
   "outputs": [
    {
     "data": {
      "text/plain": "array([47986, 48213, 48215, ..., 48360, 43233, 33061], dtype=int64)"
     },
     "execution_count": 14,
     "metadata": {},
     "output_type": "execute_result"
    }
   ],
   "source": [
    "dataset['item_id:token'].unique()"
   ],
   "metadata": {
    "collapsed": false,
    "pycharm": {
     "name": "#%%\n"
    }
   }
  },
  {
   "cell_type": "code",
   "execution_count": 15,
   "outputs": [
    {
     "data": {
      "text/plain": "66055"
     },
     "execution_count": 15,
     "metadata": {},
     "output_type": "execute_result"
    }
   ],
   "source": [
    "zip(dataset['item_id:token'].unique(),range(dataset['item_id:token'].nunique()))"
   ],
   "metadata": {
    "collapsed": false,
    "pycharm": {
     "name": "#%%\n"
    }
   }
  },
  {
   "cell_type": "code",
   "execution_count": 12,
   "outputs": [
    {
     "data": {
      "text/plain": "77317"
     },
     "execution_count": 12,
     "metadata": {},
     "output_type": "execute_result"
    }
   ],
   "source": [
    "dataset['item_id:token'].max()"
   ],
   "metadata": {
    "collapsed": false,
    "pycharm": {
     "name": "#%%\n"
    }
   }
  },
  {
   "cell_type": "code",
   "execution_count": 32,
   "outputs": [
    {
     "data": {
      "text/plain": "Empty DataFrame\nColumns: [user_id:token, item_id:token, timestamp:float, appearance:float, aroma:float, palate:float, taste:float, overall:float]\nIndex: []",
      "text/html": "<div>\n<style scoped>\n    .dataframe tbody tr th:only-of-type {\n        vertical-align: middle;\n    }\n\n    .dataframe tbody tr th {\n        vertical-align: top;\n    }\n\n    .dataframe thead th {\n        text-align: right;\n    }\n</style>\n<table border=\"1\" class=\"dataframe\">\n  <thead>\n    <tr style=\"text-align: right;\">\n      <th></th>\n      <th>user_id:token</th>\n      <th>item_id:token</th>\n      <th>timestamp:float</th>\n      <th>appearance:float</th>\n      <th>aroma:float</th>\n      <th>palate:float</th>\n      <th>taste:float</th>\n      <th>overall:float</th>\n    </tr>\n  </thead>\n  <tbody>\n  </tbody>\n</table>\n</div>"
     },
     "execution_count": 32,
     "metadata": {},
     "output_type": "execute_result"
    }
   ],
   "source": [],
   "metadata": {
    "collapsed": false,
    "pycharm": {
     "name": "#%%\n"
    }
   }
  },
  {
   "cell_type": "code",
   "execution_count": 18,
   "outputs": [],
   "source": [
    "filter_dataset = dataset[['user_id:token','item_id:token','overall:float','timestamp:float']]"
   ],
   "metadata": {
    "collapsed": false,
    "pycharm": {
     "name": "#%%\n"
    }
   }
  },
  {
   "cell_type": "code",
   "execution_count": 33,
   "outputs": [],
   "source": [
    "filter_dataset.to_csv('beeradvocate/filtered_rating.csv',sep='\\t',header=None,index=None)"
   ],
   "metadata": {
    "collapsed": false,
    "pycharm": {
     "name": "#%%\n"
    }
   }
  }
 ],
 "metadata": {
  "kernelspec": {
   "display_name": "Python 3",
   "language": "python",
   "name": "python3"
  },
  "language_info": {
   "codemirror_mode": {
    "name": "ipython",
    "version": 2
   },
   "file_extension": ".py",
   "mimetype": "text/x-python",
   "name": "python",
   "nbconvert_exporter": "python",
   "pygments_lexer": "ipython2",
   "version": "2.7.6"
  }
 },
 "nbformat": 4,
 "nbformat_minor": 0
}